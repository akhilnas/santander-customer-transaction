{
 "cells": [
  {
   "cell_type": "markdown",
   "id": "a9f80bba",
   "metadata": {
    "papermill": {
     "duration": 0.019081,
     "end_time": "2021-08-17T08:02:25.309623",
     "exception": false,
     "start_time": "2021-08-17T08:02:25.290542",
     "status": "completed"
    },
    "tags": []
   },
   "source": [
    "# **Training Notebook for Santander Dataset with AutoML**"
   ]
  },
  {
   "cell_type": "markdown",
   "id": "b6229e7c",
   "metadata": {
    "papermill": {
     "duration": 0.017484,
     "end_time": "2021-08-17T08:02:25.345619",
     "exception": false,
     "start_time": "2021-08-17T08:02:25.328135",
     "status": "completed"
    },
    "tags": []
   },
   "source": [
    "## **1. Required Libraries & Setup**"
   ]
  },
  {
   "cell_type": "code",
   "execution_count": 1,
   "id": "75191295",
   "metadata": {
    "execution": {
     "iopub.execute_input": "2021-08-17T08:02:25.396262Z",
     "iopub.status.busy": "2021-08-17T08:02:25.395466Z",
     "iopub.status.idle": "2021-08-17T08:02:26.524763Z",
     "shell.execute_reply": "2021-08-17T08:02:26.523926Z",
     "shell.execute_reply.started": "2021-08-17T06:38:32.163349Z"
    },
    "papermill": {
     "duration": 1.161429,
     "end_time": "2021-08-17T08:02:26.524938",
     "exception": false,
     "start_time": "2021-08-17T08:02:25.363509",
     "status": "completed"
    },
    "tags": []
   },
   "outputs": [
    {
     "name": "stdout",
     "output_type": "stream",
     "text": [
      "Numpy Version: 1.19.5\n",
      "Pandas Version: 1.2.4\n"
     ]
    }
   ],
   "source": [
    "# General Data Manipulation Libraries\n",
    "import numpy as np; print('Numpy Version:', np.__version__)\n",
    "import pandas as pd; print('Pandas Version:', pd.__version__)\n",
    "\n",
    "# Model & Helper Libraries\n",
    "from sklearn.model_selection import train_test_split"
   ]
  },
  {
   "cell_type": "markdown",
   "id": "cd1318f6",
   "metadata": {
    "papermill": {
     "duration": 0.018622,
     "end_time": "2021-08-17T08:02:26.562840",
     "exception": false,
     "start_time": "2021-08-17T08:02:26.544218",
     "status": "completed"
    },
    "tags": []
   },
   "source": [
    "## **2. Results with Different Classifier models**"
   ]
  },
  {
   "cell_type": "code",
   "execution_count": 2,
   "id": "e1ef41c0",
   "metadata": {
    "execution": {
     "iopub.execute_input": "2021-08-17T08:02:26.609058Z",
     "iopub.status.busy": "2021-08-17T08:02:26.607881Z",
     "iopub.status.idle": "2021-08-17T08:02:37.960861Z",
     "shell.execute_reply": "2021-08-17T08:02:37.960338Z",
     "shell.execute_reply.started": "2021-08-17T06:38:32.17392Z"
    },
    "papermill": {
     "duration": 11.379397,
     "end_time": "2021-08-17T08:02:37.961017",
     "exception": false,
     "start_time": "2021-08-17T08:02:26.581620",
     "status": "completed"
    },
    "tags": []
   },
   "outputs": [
    {
     "data": {
      "text/plain": [
       "((160000, 200), (40000, 200), (160000,), (40000,))"
      ]
     },
     "execution_count": 2,
     "metadata": {},
     "output_type": "execute_result"
    }
   ],
   "source": [
    "# Load Data\n",
    "input_dir = '/kaggle/input/santander-customer-transaction-prediction/'\n",
    "df_train = pd.read_csv(input_dir + 'train.csv')\n",
    "\n",
    "# Train-Validation Split\n",
    "var_colums = [c for c in df_train.columns if c not in ['ID_code','target']]\n",
    "X = df_train.loc[:, var_colums]\n",
    "y = df_train.loc[:, 'target']\n",
    "\n",
    "# We are performing a 80-20 split for Training and Validation\n",
    "X_train, X_valid, y_train, y_valid = train_test_split(X, y, test_size=0.2, random_state=11)\n",
    "X_train.shape, X_valid.shape, y_train.shape, y_valid.shape"
   ]
  },
  {
   "cell_type": "markdown",
   "id": "80943f82",
   "metadata": {
    "papermill": {
     "duration": 0.018366,
     "end_time": "2021-08-17T08:02:37.998362",
     "exception": false,
     "start_time": "2021-08-17T08:02:37.979996",
     "status": "completed"
    },
    "tags": []
   },
   "source": [
    "### **2.1 Using LightGBM**"
   ]
  },
  {
   "cell_type": "code",
   "execution_count": 3,
   "id": "6ad4a872",
   "metadata": {
    "execution": {
     "iopub.execute_input": "2021-08-17T08:02:38.043430Z",
     "iopub.status.busy": "2021-08-17T08:02:38.042547Z",
     "iopub.status.idle": "2021-08-17T08:02:39.175722Z",
     "shell.execute_reply": "2021-08-17T08:02:39.175017Z",
     "shell.execute_reply.started": "2021-08-17T06:38:41.122721Z"
    },
    "papermill": {
     "duration": 1.156459,
     "end_time": "2021-08-17T08:02:39.175864",
     "exception": false,
     "start_time": "2021-08-17T08:02:38.019405",
     "status": "completed"
    },
    "tags": []
   },
   "outputs": [
    {
     "data": {
      "text/html": [
       "<style type='text/css'>\n",
       ".datatable table.frame { margin-bottom: 0; }\n",
       ".datatable table.frame thead { border-bottom: none; }\n",
       ".datatable table.frame tr.coltypes td {  color: #FFFFFF;  line-height: 6px;  padding: 0 0.5em;}\n",
       ".datatable .bool    { background: #DDDD99; }\n",
       ".datatable .object  { background: #565656; }\n",
       ".datatable .int     { background: #5D9E5D; }\n",
       ".datatable .float   { background: #4040CC; }\n",
       ".datatable .str     { background: #CC4040; }\n",
       ".datatable .time    { background: #40CC40; }\n",
       ".datatable .row_index {  background: var(--jp-border-color3);  border-right: 1px solid var(--jp-border-color0);  color: var(--jp-ui-font-color3);  font-size: 9px;}\n",
       ".datatable .frame tbody td { text-align: left; }\n",
       ".datatable .frame tr.coltypes .row_index {  background: var(--jp-border-color0);}\n",
       ".datatable th:nth-child(2) { padding-left: 12px; }\n",
       ".datatable .hellipsis {  color: var(--jp-cell-editor-border-color);}\n",
       ".datatable .vellipsis {  background: var(--jp-layout-color0);  color: var(--jp-cell-editor-border-color);}\n",
       ".datatable .na {  color: var(--jp-cell-editor-border-color);  font-size: 80%;}\n",
       ".datatable .sp {  opacity: 0.25;}\n",
       ".datatable .footer { font-size: 9px; }\n",
       ".datatable .frame_dimensions {  background: var(--jp-border-color3);  border-top: 1px solid var(--jp-border-color0);  color: var(--jp-ui-font-color3);  display: inline-block;  opacity: 0.6;  padding: 1px 10px 1px 5px;}\n",
       "</style>\n"
      ],
      "text/plain": [
       "<IPython.core.display.HTML object>"
      ]
     },
     "metadata": {},
     "output_type": "display_data"
    }
   ],
   "source": [
    "# Import LightGBM \n",
    "import lightgbm as lgb"
   ]
  },
  {
   "cell_type": "code",
   "execution_count": 4,
   "id": "156a333c",
   "metadata": {
    "execution": {
     "iopub.execute_input": "2021-08-17T08:02:39.220269Z",
     "iopub.status.busy": "2021-08-17T08:02:39.219388Z",
     "iopub.status.idle": "2021-08-17T08:02:39.224095Z",
     "shell.execute_reply": "2021-08-17T08:02:39.223502Z",
     "shell.execute_reply.started": "2021-08-17T06:38:41.129456Z"
    },
    "papermill": {
     "duration": 0.029061,
     "end_time": "2021-08-17T08:02:39.224235",
     "exception": false,
     "start_time": "2021-08-17T08:02:39.195174",
     "status": "completed"
    },
    "tags": []
   },
   "outputs": [],
   "source": [
    "# Create Dataset for LightGBM\n",
    "lgb_train = lgb.Dataset(X_train.values, label=y_train.values)\n",
    "lgb_eval = lgb.Dataset(X_valid.values, y_valid.values, reference=lgb_train)"
   ]
  },
  {
   "cell_type": "code",
   "execution_count": 5,
   "id": "00ad5057",
   "metadata": {
    "execution": {
     "iopub.execute_input": "2021-08-17T08:02:39.273119Z",
     "iopub.status.busy": "2021-08-17T08:02:39.272075Z",
     "iopub.status.idle": "2021-08-17T08:02:39.276820Z",
     "shell.execute_reply": "2021-08-17T08:02:39.276159Z",
     "shell.execute_reply.started": "2021-08-17T06:38:45.674335Z"
    },
    "papermill": {
     "duration": 0.033099,
     "end_time": "2021-08-17T08:02:39.276967",
     "exception": false,
     "start_time": "2021-08-17T08:02:39.243868",
     "status": "completed"
    },
    "tags": []
   },
   "outputs": [
    {
     "data": {
      "text/plain": [
       "{'boosting_type': 'gbdt',\n",
       " 'class_weight': None,\n",
       " 'colsample_bytree': 1.0,\n",
       " 'importance_type': 'split',\n",
       " 'learning_rate': 0.05,\n",
       " 'max_depth': -1,\n",
       " 'min_child_samples': 20,\n",
       " 'min_child_weight': 0.001,\n",
       " 'min_split_gain': 0.0,\n",
       " 'n_estimators': 200,\n",
       " 'n_jobs': -1,\n",
       " 'num_leaves': 40,\n",
       " 'objective': 'binary',\n",
       " 'random_state': None,\n",
       " 'reg_alpha': 0.0,\n",
       " 'reg_lambda': 0.0,\n",
       " 'silent': True,\n",
       " 'subsample': 1.0,\n",
       " 'subsample_for_bin': 200000,\n",
       " 'subsample_freq': 0,\n",
       " 'feature_fraction': 0.5,\n",
       " 'metric': 'auc',\n",
       " 'bagging_fraction': 0.5,\n",
       " 'is_unbalance': 'true'}"
      ]
     },
     "execution_count": 5,
     "metadata": {},
     "output_type": "execute_result"
    }
   ],
   "source": [
    "clf = lgb.LGBMClassifier()\n",
    "params = {    'boosting_type': 'gbdt',\n",
    "              'objective': 'binary',\n",
    "              'num_leaves': 40,\n",
    "              'learning_rate': 0.05,\n",
    "              'feature_fraction': 0.5,\n",
    "              'metric': 'auc',  \n",
    "              'bagging_fraction': 0.5,\n",
    "              'is_unbalance': 'true',\n",
    "              'n_estimators': 200\n",
    "              }\n",
    "clf.set_params(**params)\n",
    "clf.get_params()"
   ]
  },
  {
   "cell_type": "code",
   "execution_count": 6,
   "id": "b308f037",
   "metadata": {
    "execution": {
     "iopub.execute_input": "2021-08-17T08:02:39.322396Z",
     "iopub.status.busy": "2021-08-17T08:02:39.321685Z",
     "iopub.status.idle": "2021-08-17T08:02:53.864012Z",
     "shell.execute_reply": "2021-08-17T08:02:53.864944Z",
     "shell.execute_reply.started": "2021-08-17T06:38:48.333362Z"
    },
    "papermill": {
     "duration": 14.568441,
     "end_time": "2021-08-17T08:02:53.865153",
     "exception": false,
     "start_time": "2021-08-17T08:02:39.296712",
     "status": "completed"
    },
    "tags": []
   },
   "outputs": [
    {
     "name": "stdout",
     "output_type": "stream",
     "text": [
      "[1]\tvalid_0's auc: 0.667921\tvalid_0's binary_logloss: 0.320279\n",
      "Training until validation scores don't improve for 5 rounds\n",
      "[2]\tvalid_0's auc: 0.687035\tvalid_0's binary_logloss: 0.317173\n",
      "[3]\tvalid_0's auc: 0.705302\tvalid_0's binary_logloss: 0.314334\n",
      "[4]\tvalid_0's auc: 0.717217\tvalid_0's binary_logloss: 0.311672\n",
      "[5]\tvalid_0's auc: 0.728351\tvalid_0's binary_logloss: 0.309246\n",
      "[6]\tvalid_0's auc: 0.738685\tvalid_0's binary_logloss: 0.307043\n",
      "[7]\tvalid_0's auc: 0.745037\tvalid_0's binary_logloss: 0.304969\n",
      "[8]\tvalid_0's auc: 0.750991\tvalid_0's binary_logloss: 0.303169\n",
      "[9]\tvalid_0's auc: 0.757134\tvalid_0's binary_logloss: 0.301371\n",
      "[10]\tvalid_0's auc: 0.762586\tvalid_0's binary_logloss: 0.299611\n",
      "[11]\tvalid_0's auc: 0.768533\tvalid_0's binary_logloss: 0.29782\n",
      "[12]\tvalid_0's auc: 0.774081\tvalid_0's binary_logloss: 0.29618\n",
      "[13]\tvalid_0's auc: 0.777353\tvalid_0's binary_logloss: 0.294702\n",
      "[14]\tvalid_0's auc: 0.779715\tvalid_0's binary_logloss: 0.293318\n",
      "[15]\tvalid_0's auc: 0.782975\tvalid_0's binary_logloss: 0.292\n",
      "[16]\tvalid_0's auc: 0.786069\tvalid_0's binary_logloss: 0.290577\n",
      "[17]\tvalid_0's auc: 0.789215\tvalid_0's binary_logloss: 0.28925\n",
      "[18]\tvalid_0's auc: 0.792428\tvalid_0's binary_logloss: 0.287878\n",
      "[19]\tvalid_0's auc: 0.795585\tvalid_0's binary_logloss: 0.28671\n",
      "[20]\tvalid_0's auc: 0.797578\tvalid_0's binary_logloss: 0.285598\n",
      "[21]\tvalid_0's auc: 0.800422\tvalid_0's binary_logloss: 0.284359\n",
      "[22]\tvalid_0's auc: 0.803822\tvalid_0's binary_logloss: 0.283042\n",
      "[23]\tvalid_0's auc: 0.805758\tvalid_0's binary_logloss: 0.282091\n",
      "[24]\tvalid_0's auc: 0.807678\tvalid_0's binary_logloss: 0.28096\n",
      "[25]\tvalid_0's auc: 0.809871\tvalid_0's binary_logloss: 0.279947\n",
      "[26]\tvalid_0's auc: 0.811888\tvalid_0's binary_logloss: 0.27904\n",
      "[27]\tvalid_0's auc: 0.81419\tvalid_0's binary_logloss: 0.278037\n",
      "[28]\tvalid_0's auc: 0.81594\tvalid_0's binary_logloss: 0.277082\n",
      "[29]\tvalid_0's auc: 0.817697\tvalid_0's binary_logloss: 0.276199\n",
      "[30]\tvalid_0's auc: 0.819771\tvalid_0's binary_logloss: 0.275241\n",
      "[31]\tvalid_0's auc: 0.821434\tvalid_0's binary_logloss: 0.274291\n",
      "[32]\tvalid_0's auc: 0.823846\tvalid_0's binary_logloss: 0.273271\n",
      "[33]\tvalid_0's auc: 0.825157\tvalid_0's binary_logloss: 0.27252\n",
      "[34]\tvalid_0's auc: 0.826726\tvalid_0's binary_logloss: 0.271653\n",
      "[35]\tvalid_0's auc: 0.828118\tvalid_0's binary_logloss: 0.270825\n",
      "[36]\tvalid_0's auc: 0.829372\tvalid_0's binary_logloss: 0.270061\n",
      "[37]\tvalid_0's auc: 0.830158\tvalid_0's binary_logloss: 0.269296\n",
      "[38]\tvalid_0's auc: 0.831608\tvalid_0's binary_logloss: 0.268378\n",
      "[39]\tvalid_0's auc: 0.832753\tvalid_0's binary_logloss: 0.267672\n",
      "[40]\tvalid_0's auc: 0.833753\tvalid_0's binary_logloss: 0.266927\n",
      "[41]\tvalid_0's auc: 0.834737\tvalid_0's binary_logloss: 0.266204\n",
      "[42]\tvalid_0's auc: 0.835716\tvalid_0's binary_logloss: 0.265564\n",
      "[43]\tvalid_0's auc: 0.836397\tvalid_0's binary_logloss: 0.264972\n",
      "[44]\tvalid_0's auc: 0.837102\tvalid_0's binary_logloss: 0.264372\n",
      "[45]\tvalid_0's auc: 0.838014\tvalid_0's binary_logloss: 0.263707\n",
      "[46]\tvalid_0's auc: 0.838731\tvalid_0's binary_logloss: 0.263141\n",
      "[47]\tvalid_0's auc: 0.839776\tvalid_0's binary_logloss: 0.262487\n",
      "[48]\tvalid_0's auc: 0.84085\tvalid_0's binary_logloss: 0.26181\n",
      "[49]\tvalid_0's auc: 0.841572\tvalid_0's binary_logloss: 0.261347\n",
      "[50]\tvalid_0's auc: 0.84257\tvalid_0's binary_logloss: 0.260671\n",
      "[51]\tvalid_0's auc: 0.843061\tvalid_0's binary_logloss: 0.260149\n",
      "[52]\tvalid_0's auc: 0.843722\tvalid_0's binary_logloss: 0.259573\n",
      "[53]\tvalid_0's auc: 0.844362\tvalid_0's binary_logloss: 0.259078\n",
      "[54]\tvalid_0's auc: 0.844538\tvalid_0's binary_logloss: 0.25857\n",
      "[55]\tvalid_0's auc: 0.845421\tvalid_0's binary_logloss: 0.258034\n",
      "[56]\tvalid_0's auc: 0.846264\tvalid_0's binary_logloss: 0.257467\n",
      "[57]\tvalid_0's auc: 0.846851\tvalid_0's binary_logloss: 0.256932\n",
      "[58]\tvalid_0's auc: 0.847592\tvalid_0's binary_logloss: 0.256421\n",
      "[59]\tvalid_0's auc: 0.848564\tvalid_0's binary_logloss: 0.255811\n",
      "[60]\tvalid_0's auc: 0.849234\tvalid_0's binary_logloss: 0.255371\n",
      "[61]\tvalid_0's auc: 0.849932\tvalid_0's binary_logloss: 0.254909\n",
      "[62]\tvalid_0's auc: 0.850383\tvalid_0's binary_logloss: 0.254434\n",
      "[63]\tvalid_0's auc: 0.851201\tvalid_0's binary_logloss: 0.253925\n",
      "[64]\tvalid_0's auc: 0.851809\tvalid_0's binary_logloss: 0.25347\n",
      "[65]\tvalid_0's auc: 0.852289\tvalid_0's binary_logloss: 0.253006\n",
      "[66]\tvalid_0's auc: 0.853036\tvalid_0's binary_logloss: 0.252564\n",
      "[67]\tvalid_0's auc: 0.85368\tvalid_0's binary_logloss: 0.25204\n",
      "[68]\tvalid_0's auc: 0.854197\tvalid_0's binary_logloss: 0.251639\n",
      "[69]\tvalid_0's auc: 0.855011\tvalid_0's binary_logloss: 0.251058\n",
      "[70]\tvalid_0's auc: 0.855694\tvalid_0's binary_logloss: 0.250587\n",
      "[71]\tvalid_0's auc: 0.856223\tvalid_0's binary_logloss: 0.250185\n",
      "[72]\tvalid_0's auc: 0.856678\tvalid_0's binary_logloss: 0.24969\n",
      "[73]\tvalid_0's auc: 0.857039\tvalid_0's binary_logloss: 0.249298\n",
      "[74]\tvalid_0's auc: 0.85783\tvalid_0's binary_logloss: 0.248838\n",
      "[75]\tvalid_0's auc: 0.85842\tvalid_0's binary_logloss: 0.248404\n",
      "[76]\tvalid_0's auc: 0.858741\tvalid_0's binary_logloss: 0.248041\n",
      "[77]\tvalid_0's auc: 0.859335\tvalid_0's binary_logloss: 0.247538\n",
      "[78]\tvalid_0's auc: 0.859948\tvalid_0's binary_logloss: 0.247114\n",
      "[79]\tvalid_0's auc: 0.860227\tvalid_0's binary_logloss: 0.246766\n",
      "[80]\tvalid_0's auc: 0.860402\tvalid_0's binary_logloss: 0.246398\n",
      "[81]\tvalid_0's auc: 0.860809\tvalid_0's binary_logloss: 0.246006\n",
      "[82]\tvalid_0's auc: 0.861114\tvalid_0's binary_logloss: 0.245638\n",
      "[83]\tvalid_0's auc: 0.861425\tvalid_0's binary_logloss: 0.245325\n",
      "[84]\tvalid_0's auc: 0.861664\tvalid_0's binary_logloss: 0.245034\n",
      "[85]\tvalid_0's auc: 0.861928\tvalid_0's binary_logloss: 0.244744\n",
      "[86]\tvalid_0's auc: 0.862327\tvalid_0's binary_logloss: 0.244387\n",
      "[87]\tvalid_0's auc: 0.862848\tvalid_0's binary_logloss: 0.243978\n",
      "[88]\tvalid_0's auc: 0.863008\tvalid_0's binary_logloss: 0.243696\n",
      "[89]\tvalid_0's auc: 0.863256\tvalid_0's binary_logloss: 0.243367\n",
      "[90]\tvalid_0's auc: 0.863737\tvalid_0's binary_logloss: 0.243035\n",
      "[91]\tvalid_0's auc: 0.864062\tvalid_0's binary_logloss: 0.24268\n",
      "[92]\tvalid_0's auc: 0.864555\tvalid_0's binary_logloss: 0.242306\n",
      "[93]\tvalid_0's auc: 0.864957\tvalid_0's binary_logloss: 0.241988\n",
      "[94]\tvalid_0's auc: 0.865429\tvalid_0's binary_logloss: 0.24164\n",
      "[95]\tvalid_0's auc: 0.865735\tvalid_0's binary_logloss: 0.241311\n",
      "[96]\tvalid_0's auc: 0.866232\tvalid_0's binary_logloss: 0.240957\n",
      "[97]\tvalid_0's auc: 0.866347\tvalid_0's binary_logloss: 0.240706\n",
      "[98]\tvalid_0's auc: 0.866727\tvalid_0's binary_logloss: 0.24034\n",
      "[99]\tvalid_0's auc: 0.866964\tvalid_0's binary_logloss: 0.240055\n",
      "[100]\tvalid_0's auc: 0.867029\tvalid_0's binary_logloss: 0.239838\n",
      "Did not meet early stopping. Best iteration is:\n",
      "[100]\tvalid_0's auc: 0.867029\tvalid_0's binary_logloss: 0.239838\n"
     ]
    },
    {
     "data": {
      "text/plain": [
       "LGBMClassifier()"
      ]
     },
     "execution_count": 6,
     "metadata": {},
     "output_type": "execute_result"
    }
   ],
   "source": [
    "clf = lgb.LGBMClassifier()\n",
    "clf.fit(X_train, y_train,eval_set=[(X_valid.values, y_valid.values)], eval_metric='auc', early_stopping_rounds=5, verbose=True)"
   ]
  },
  {
   "cell_type": "code",
   "execution_count": 7,
   "id": "56f2fec5",
   "metadata": {
    "execution": {
     "iopub.execute_input": "2021-08-17T08:02:53.936924Z",
     "iopub.status.busy": "2021-08-17T08:02:53.936163Z",
     "iopub.status.idle": "2021-08-17T08:02:54.160861Z",
     "shell.execute_reply": "2021-08-17T08:02:54.161890Z",
     "shell.execute_reply.started": "2021-08-17T06:39:32.021591Z"
    },
    "papermill": {
     "duration": 0.263031,
     "end_time": "2021-08-17T08:02:54.162111",
     "exception": false,
     "start_time": "2021-08-17T08:02:53.899080",
     "status": "completed"
    },
    "tags": []
   },
   "outputs": [
    {
     "data": {
      "text/plain": [
       "(array([0, 1]), array([39561,   439]))"
      ]
     },
     "execution_count": 7,
     "metadata": {},
     "output_type": "execute_result"
    }
   ],
   "source": [
    "# Predictions\n",
    "y_pred=clf.predict(X_valid)\n",
    "np.unique(y_pred, return_counts=True)"
   ]
  },
  {
   "cell_type": "markdown",
   "id": "73795c29",
   "metadata": {
    "papermill": {
     "duration": 0.033144,
     "end_time": "2021-08-17T08:02:54.230453",
     "exception": false,
     "start_time": "2021-08-17T08:02:54.197309",
     "status": "completed"
    },
    "tags": []
   },
   "source": [
    "**View Accuracy**"
   ]
  },
  {
   "cell_type": "code",
   "execution_count": 8,
   "id": "0f013b83",
   "metadata": {
    "execution": {
     "iopub.execute_input": "2021-08-17T08:02:54.301941Z",
     "iopub.status.busy": "2021-08-17T08:02:54.301238Z",
     "iopub.status.idle": "2021-08-17T08:02:54.313013Z",
     "shell.execute_reply": "2021-08-17T08:02:54.312407Z"
    },
    "papermill": {
     "duration": 0.049842,
     "end_time": "2021-08-17T08:02:54.313155",
     "exception": false,
     "start_time": "2021-08-17T08:02:54.263313",
     "status": "completed"
    },
    "tags": []
   },
   "outputs": [
    {
     "name": "stdout",
     "output_type": "stream",
     "text": [
      "LightGBM Model accuracy score: 0.9082\n"
     ]
    }
   ],
   "source": [
    "# view accuracy\n",
    "from sklearn.metrics import accuracy_score\n",
    "accuracy=accuracy_score(y_pred, y_valid)\n",
    "print('LightGBM Model accuracy score: {0:0.4f}'.format(accuracy_score(y_valid, y_pred)))"
   ]
  },
  {
   "cell_type": "markdown",
   "id": "c5752e57",
   "metadata": {
    "papermill": {
     "duration": 0.033326,
     "end_time": "2021-08-17T08:02:54.380183",
     "exception": false,
     "start_time": "2021-08-17T08:02:54.346857",
     "status": "completed"
    },
    "tags": []
   },
   "source": [
    "**Classification Metrics**"
   ]
  },
  {
   "cell_type": "code",
   "execution_count": 9,
   "id": "88da3925",
   "metadata": {
    "execution": {
     "iopub.execute_input": "2021-08-17T08:02:54.453170Z",
     "iopub.status.busy": "2021-08-17T08:02:54.452476Z",
     "iopub.status.idle": "2021-08-17T08:02:54.522327Z",
     "shell.execute_reply": "2021-08-17T08:02:54.521778Z"
    },
    "papermill": {
     "duration": 0.109066,
     "end_time": "2021-08-17T08:02:54.522479",
     "exception": false,
     "start_time": "2021-08-17T08:02:54.413413",
     "status": "completed"
    },
    "tags": []
   },
   "outputs": [
    {
     "name": "stdout",
     "output_type": "stream",
     "text": [
      "              precision    recall  f1-score   support\n",
      "\n",
      "           0       0.91      1.00      0.95     36015\n",
      "           1       0.86      0.09      0.17      3985\n",
      "\n",
      "    accuracy                           0.91     40000\n",
      "   macro avg       0.88      0.55      0.56     40000\n",
      "weighted avg       0.90      0.91      0.87     40000\n",
      "\n"
     ]
    }
   ],
   "source": [
    "from sklearn.metrics import classification_report\n",
    "print(classification_report(y_valid, y_pred))"
   ]
  },
  {
   "cell_type": "markdown",
   "id": "98146cb0",
   "metadata": {
    "papermill": {
     "duration": 0.035215,
     "end_time": "2021-08-17T08:02:54.591483",
     "exception": false,
     "start_time": "2021-08-17T08:02:54.556268",
     "status": "completed"
    },
    "tags": []
   },
   "source": [
    "**Confusion-matrix**"
   ]
  },
  {
   "cell_type": "code",
   "execution_count": 10,
   "id": "e897544a",
   "metadata": {
    "execution": {
     "iopub.execute_input": "2021-08-17T08:02:54.666267Z",
     "iopub.status.busy": "2021-08-17T08:02:54.665585Z",
     "iopub.status.idle": "2021-08-17T08:02:55.320322Z",
     "shell.execute_reply": "2021-08-17T08:02:55.319599Z",
     "shell.execute_reply.started": "2021-08-17T06:39:33.136312Z"
    },
    "papermill": {
     "duration": 0.694777,
     "end_time": "2021-08-17T08:02:55.320477",
     "exception": false,
     "start_time": "2021-08-17T08:02:54.625700",
     "status": "completed"
    },
    "tags": []
   },
   "outputs": [
    {
     "data": {
      "text/plain": [
       "<AxesSubplot:>"
      ]
     },
     "execution_count": 10,
     "metadata": {},
     "output_type": "execute_result"
    },
    {
     "data": {
      "image/png": "[encoded data removed]",
      "text/plain": [
       "<Figure size 432x288 with 2 Axes>"
      ]
     },
     "metadata": {
      "needs_background": "light"
     },
     "output_type": "display_data"
    }
   ],
   "source": [
    "from sklearn.metrics import confusion_matrix\n",
    "import seaborn as sns\n",
    "cm = confusion_matrix(y_valid, y_pred)\n",
    "\n",
    "# visualize confusion matrix with seaborn heatmap\n",
    "\n",
    "cm_matrix = pd.DataFrame(data=cm, columns=['Actual Positive:1', 'Actual Negative:0'], \n",
    "                                 index=['Predict Positive:1', 'Predict Negative:0'])\n",
    "\n",
    "sns.heatmap(cm_matrix, annot=True, fmt='d', cmap='YlGnBu')"
   ]
  },
  {
   "cell_type": "markdown",
   "id": "d2ccdcb0",
   "metadata": {
    "papermill": {
     "duration": 0.034906,
     "end_time": "2021-08-17T08:02:55.392129",
     "exception": false,
     "start_time": "2021-08-17T08:02:55.357223",
     "status": "completed"
    },
    "tags": []
   },
   "source": [
    "### **6.1 Using AutoML H20**"
   ]
  },
  {
   "cell_type": "code",
   "execution_count": 11,
   "id": "cc7dea1a",
   "metadata": {
    "execution": {
     "iopub.execute_input": "2021-08-17T08:02:55.486121Z",
     "iopub.status.busy": "2021-08-17T08:02:55.469317Z",
     "iopub.status.idle": "2021-08-17T08:03:26.191568Z",
     "shell.execute_reply": "2021-08-17T08:03:26.190930Z"
    },
    "papermill": {
     "duration": 30.764508,
     "end_time": "2021-08-17T08:03:26.191752",
     "exception": false,
     "start_time": "2021-08-17T08:02:55.427244",
     "status": "completed"
    },
    "tags": []
   },
   "outputs": [
    {
     "name": "stdout",
     "output_type": "stream",
     "text": [
      "Requirement already satisfied: requests in /opt/conda/lib/python3.7/site-packages (2.25.1)\r\n",
      "Requirement already satisfied: urllib3<1.27,>=1.21.1 in /opt/conda/lib/python3.7/site-packages (from requests) (1.26.5)\r\n",
      "Requirement already satisfied: idna<3,>=2.5 in /opt/conda/lib/python3.7/site-packages (from requests) (2.10)\r\n",
      "Requirement already satisfied: certifi>=2017.4.17 in /opt/conda/lib/python3.7/site-packages (from requests) (2021.5.30)\r\n",
      "Requirement already satisfied: chardet<5,>=3.0.2 in /opt/conda/lib/python3.7/site-packages (from requests) (4.0.0)\r\n",
      "\u001b[33mWARNING: Running pip as root will break packages and permissions. You should install packages reliably by using venv: https://pip.pypa.io/warnings/venv\u001b[0m\r\n",
      "Requirement already satisfied: tabulate in /opt/conda/lib/python3.7/site-packages (0.8.9)\r\n",
      "\u001b[33mWARNING: Running pip as root will break packages and permissions. You should install packages reliably by using venv: https://pip.pypa.io/warnings/venv\u001b[0m\r\n",
      "Requirement already satisfied: colorama>=0.3.8 in /opt/conda/lib/python3.7/site-packages (0.4.4)\r\n",
      "\u001b[33mWARNING: Running pip as root will break packages and permissions. You should install packages reliably by using venv: https://pip.pypa.io/warnings/venv\u001b[0m\r\n",
      "Requirement already satisfied: future in /opt/conda/lib/python3.7/site-packages (0.18.2)\r\n",
      "\u001b[33mWARNING: Running pip as root will break packages and permissions. You should install packages reliably by using venv: https://pip.pypa.io/warnings/venv\u001b[0m\r\n"
     ]
    }
   ],
   "source": [
    "# Install Dependencies\n",
    "!pip install requests\n",
    "!pip install tabulate\n",
    "!pip install \"colorama>=0.3.8\"\n",
    "!pip install future"
   ]
  },
  {
   "cell_type": "code",
   "execution_count": 12,
   "id": "dde744e3",
   "metadata": {
    "execution": {
     "iopub.execute_input": "2021-08-17T08:03:26.282758Z",
     "iopub.status.busy": "2021-08-17T08:03:26.273906Z",
     "iopub.status.idle": "2021-08-17T08:03:33.743088Z",
     "shell.execute_reply": "2021-08-17T08:03:33.742489Z"
    },
    "papermill": {
     "duration": 7.513434,
     "end_time": "2021-08-17T08:03:33.743258",
     "exception": false,
     "start_time": "2021-08-17T08:03:26.229824",
     "status": "completed"
    },
    "tags": []
   },
   "outputs": [
    {
     "name": "stdout",
     "output_type": "stream",
     "text": [
      "Looking in links: http://h2o-release.s3.amazonaws.com/h2o/latest_stable_Py.html\r\n",
      "Requirement already satisfied: h2o in /opt/conda/lib/python3.7/site-packages (3.32.1.3)\r\n",
      "Requirement already satisfied: future in /opt/conda/lib/python3.7/site-packages (from h2o) (0.18.2)\r\n",
      "Requirement already satisfied: colorama>=0.3.8 in /opt/conda/lib/python3.7/site-packages (from h2o) (0.4.4)\r\n",
      "Requirement already satisfied: requests in /opt/conda/lib/python3.7/site-packages (from h2o) (2.25.1)\r\n",
      "Requirement already satisfied: tabulate in /opt/conda/lib/python3.7/site-packages (from h2o) (0.8.9)\r\n",
      "Requirement already satisfied: idna<3,>=2.5 in /opt/conda/lib/python3.7/site-packages (from requests->h2o) (2.10)\r\n",
      "Requirement already satisfied: chardet<5,>=3.0.2 in /opt/conda/lib/python3.7/site-packages (from requests->h2o) (4.0.0)\r\n",
      "Requirement already satisfied: urllib3<1.27,>=1.21.1 in /opt/conda/lib/python3.7/site-packages (from requests->h2o) (1.26.5)\r\n",
      "Requirement already satisfied: certifi>=2017.4.17 in /opt/conda/lib/python3.7/site-packages (from requests->h2o) (2021.5.30)\r\n",
      "\u001b[33mWARNING: Running pip as root will break packages and permissions. You should install packages reliably by using venv: https://pip.pypa.io/warnings/venv\u001b[0m\r\n"
     ]
    }
   ],
   "source": [
    "# Install and import h2o\n",
    "!pip install -f http://h2o-release.s3.amazonaws.com/h2o/latest_stable_Py.html h2o\n",
    "import h2o"
   ]
  },
  {
   "cell_type": "code",
   "execution_count": 13,
   "id": "4e28a75e",
   "metadata": {
    "execution": {
     "iopub.execute_input": "2021-08-17T08:03:33.829778Z",
     "iopub.status.busy": "2021-08-17T08:03:33.829047Z",
     "iopub.status.idle": "2021-08-17T08:03:40.850463Z",
     "shell.execute_reply": "2021-08-17T08:03:40.851396Z"
    },
    "papermill": {
     "duration": 7.068229,
     "end_time": "2021-08-17T08:03:40.851677",
     "exception": false,
     "start_time": "2021-08-17T08:03:33.783448",
     "status": "completed"
    },
    "tags": []
   },
   "outputs": [
    {
     "name": "stdout",
     "output_type": "stream",
     "text": [
      "Checking whether there is an H2O instance running at http://localhost:54321 ..... not found.\n",
      "Attempting to start a local H2O server...\n",
      "  Java Version: openjdk version \"11.0.11\" 2021-04-20; OpenJDK Runtime Environment (build 11.0.11+9-Ubuntu-0ubuntu2.18.04); OpenJDK 64-Bit Server VM (build 11.0.11+9-Ubuntu-0ubuntu2.18.04, mixed mode, sharing)\n",
      "  Starting server from /opt/conda/lib/python3.7/site-packages/h2o/backend/bin/h2o.jar\n",
      "  Ice root: /tmp/tmpr4dk02zp\n",
      "  JVM stdout: /tmp/tmpr4dk02zp/h2o_unknownUser_started_from_python.out\n",
      "  JVM stderr: /tmp/tmpr4dk02zp/h2o_unknownUser_started_from_python.err\n",
      "  Server is running at http://127.0.0.1:54321\n",
      "Connecting to H2O server at http://127.0.0.1:54321 ... successful.\n"
     ]
    },
    {
     "data": {
      "text/html": [
       "<div style=\"overflow:auto\"><table style=\"width:50%\"><tr><td>H2O_cluster_uptime:</td>\n",
       "<td>02 secs</td></tr>\n",
       "<tr><td>H2O_cluster_timezone:</td>\n",
       "<td>Etc/UTC</td></tr>\n",
       "<tr><td>H2O_data_parsing_timezone:</td>\n",
       "<td>UTC</td></tr>\n",
       "<tr><td>H2O_cluster_version:</td>\n",
       "<td>3.32.1.3</td></tr>\n",
       "<tr><td>H2O_cluster_version_age:</td>\n",
       "<td>2 months and 28 days </td></tr>\n",
       "<tr><td>H2O_cluster_name:</td>\n",
       "<td>H2O_from_python_unknownUser_18x52y</td></tr>\n",
       "<tr><td>H2O_cluster_total_nodes:</td>\n",
       "<td>1</td></tr>\n",
       "<tr><td>H2O_cluster_free_memory:</td>\n",
       "<td>16 Gb</td></tr>\n",
       "<tr><td>H2O_cluster_total_cores:</td>\n",
       "<td>4</td></tr>\n",
       "<tr><td>H2O_cluster_allowed_cores:</td>\n",
       "<td>4</td></tr>\n",
       "<tr><td>H2O_cluster_status:</td>\n",
       "<td>accepting new members, healthy</td></tr>\n",
       "<tr><td>H2O_connection_url:</td>\n",
       "<td>http://127.0.0.1:54321</td></tr>\n",
       "<tr><td>H2O_connection_proxy:</td>\n",
       "<td>{\"http\": null, \"https\": null}</td></tr>\n",
       "<tr><td>H2O_internal_security:</td>\n",
       "<td>False</td></tr>\n",
       "<tr><td>H2O_API_Extensions:</td>\n",
       "<td>Amazon S3, XGBoost, Algos, AutoML, Core V3, TargetEncoder, Core V4</td></tr>\n",
       "<tr><td>Python_version:</td>\n",
       "<td>3.7.10 final</td></tr></table></div>"
      ],
      "text/plain": [
       "--------------------------  ------------------------------------------------------------------\n",
       "H2O_cluster_uptime:         02 secs\n",
       "H2O_cluster_timezone:       Etc/UTC\n",
       "H2O_data_parsing_timezone:  UTC\n",
       "H2O_cluster_version:        3.32.1.3\n",
       "H2O_cluster_version_age:    2 months and 28 days\n",
       "H2O_cluster_name:           H2O_from_python_unknownUser_18x52y\n",
       "H2O_cluster_total_nodes:    1\n",
       "H2O_cluster_free_memory:    16 Gb\n",
       "H2O_cluster_total_cores:    4\n",
       "H2O_cluster_allowed_cores:  4\n",
       "H2O_cluster_status:         accepting new members, healthy\n",
       "H2O_connection_url:         http://127.0.0.1:54321\n",
       "H2O_connection_proxy:       {\"http\": null, \"https\": null}\n",
       "H2O_internal_security:      False\n",
       "H2O_API_Extensions:         Amazon S3, XGBoost, Algos, AutoML, Core V3, TargetEncoder, Core V4\n",
       "Python_version:             3.7.10 final\n",
       "--------------------------  ------------------------------------------------------------------"
      ]
     },
     "metadata": {},
     "output_type": "display_data"
    }
   ],
   "source": [
    "from h2o.automl import H2OAutoML\n",
    "h2o.init(max_mem_size='16G')"
   ]
  },
  {
   "cell_type": "code",
   "execution_count": 14,
   "id": "1b4525c9",
   "metadata": {
    "execution": {
     "iopub.execute_input": "2021-08-17T08:03:40.962881Z",
     "iopub.status.busy": "2021-08-17T08:03:40.962149Z",
     "iopub.status.idle": "2021-08-17T08:03:49.853138Z",
     "shell.execute_reply": "2021-08-17T08:03:49.853623Z"
    },
    "papermill": {
     "duration": 8.942966,
     "end_time": "2021-08-17T08:03:49.853833",
     "exception": false,
     "start_time": "2021-08-17T08:03:40.910867",
     "status": "completed"
    },
    "tags": []
   },
   "outputs": [
    {
     "name": "stdout",
     "output_type": "stream",
     "text": [
      "Parse progress: |█████████████████████████████████████████████████████████| 100%\n"
     ]
    },
    {
     "data": {
      "text/plain": [
       "h2o.frame.H2OFrame"
      ]
     },
     "execution_count": 14,
     "metadata": {},
     "output_type": "execute_result"
    }
   ],
   "source": [
    "df_h2o = h2o.import_file('/kaggle/input/santander-customer-transaction-prediction/train.csv')\n",
    "type(df_h2o)"
   ]
  },
  {
   "cell_type": "code",
   "execution_count": 15,
   "id": "11377666",
   "metadata": {
    "execution": {
     "iopub.execute_input": "2021-08-17T08:03:49.992126Z",
     "iopub.status.busy": "2021-08-17T08:03:49.991062Z",
     "iopub.status.idle": "2021-08-17T08:03:49.996412Z",
     "shell.execute_reply": "2021-08-17T08:03:49.996932Z"
    },
    "papermill": {
     "duration": 0.076039,
     "end_time": "2021-08-17T08:03:49.997118",
     "exception": false,
     "start_time": "2021-08-17T08:03:49.921079",
     "status": "completed"
    },
    "tags": []
   },
   "outputs": [],
   "source": [
    "# For binary classification, response should be a factor\n",
    "df_h2o[\"target\"] = df_h2o[\"target\"].asfactor()\n",
    "\n",
    "# Settign up Response and Predictor Columns\n",
    "y_col = \"target\"\n",
    "x_col = df_h2o.columns\n",
    "x_col.remove(y_col) \n",
    "x_col.remove(\"ID_code\")"
   ]
  },
  {
   "cell_type": "code",
   "execution_count": 16,
   "id": "c232dd1e",
   "metadata": {
    "execution": {
     "iopub.execute_input": "2021-08-17T08:03:50.133211Z",
     "iopub.status.busy": "2021-08-17T08:03:50.132210Z",
     "iopub.status.idle": "2021-08-17T08:59:57.207626Z",
     "shell.execute_reply": "2021-08-17T08:59:57.206957Z"
    },
    "papermill": {
     "duration": 3367.14497,
     "end_time": "2021-08-17T08:59:57.207861",
     "exception": false,
     "start_time": "2021-08-17T08:03:50.062891",
     "status": "completed"
    },
    "tags": []
   },
   "outputs": [
    {
     "name": "stdout",
     "output_type": "stream",
     "text": [
      "AutoML progress: |\n",
      "08:03:50.486: Project: AutoML_20210817_80350481\n",
      "08:03:50.499: Setting stopping tolerance adaptively based on the training frame: 0.00223606797749979\n",
      "08:03:50.499: Build control seed: 11\n",
      "08:03:50.501: training frame: Frame key: automl_training_py_1_sid_be85    cols: 202    rows: 200000  chunks: 16    size: 148759168  checksum: -5721889187161943030\n",
      "08:03:50.502: validation frame: NULL\n",
      "08:03:50.502: leaderboard frame: NULL\n",
      "08:03:50.502: blending frame: NULL\n",
      "08:03:50.502: response column: target\n",
      "08:03:50.502: fold column: null\n",
      "08:03:50.503: weights column: null\n",
      "08:03:50.536: Loading execution steps: [{XGBoost : defaults}, {GLM : defaults}, {DRF : [def_1]}, {GBM : defaults}, {DeepLearning : defaults}, {DRF : [XRT]}, {XGBoost : grids}, {GBM : grids}, {DeepLearning : grids}, {GBM : [lr_annealing]}, {XGBoost : [lr_search]}, {StackedEnsemble : defaults}]\n",
      "08:03:50.555: AutoML job created: 2021.08.17 08:03:50.481\n",
      "08:03:50.556: AutoML build started: 2021.08.17 08:03:50.556\n",
      "08:03:50.565: AutoML: starting XGBoost_1_AutoML_20210817_080350 model training\n",
      "\n",
      "███\n",
      "08:05:36.689: New leader: XGBoost_1_AutoML_20210817_080350, auc: 0.7020857001535159\n",
      "08:05:36.690: AutoML: starting XGBoost_2_AutoML_20210817_080350 model training\n",
      "\n",
      "██\n",
      "08:07:28.743: New leader: XGBoost_2_AutoML_20210817_080350, auc: 0.7056488150365131\n",
      "08:07:28.743: AutoML: starting XGBoost_3_AutoML_20210817_080350 model training\n",
      "\n",
      "█\n",
      "08:09:08.785: New leader: XGBoost_3_AutoML_20210817_080350, auc: 0.7484149719492297\n",
      "08:09:08.787: AutoML: starting GLM_1_AutoML_20210817_080350 model training\n",
      "\n",
      "██\n",
      "08:11:19.815: New leader: GLM_1_AutoML_20210817_080350, auc: 0.8596961228652878\n",
      "08:11:19.817: AutoML: starting DRF_1_AutoML_20210817_080350 model training\n",
      "\n",
      "██\n",
      "08:13:09.887: AutoML: starting GBM_1_AutoML_20210817_080350 model training\n",
      "\n",
      "█\n",
      "08:14:44.938: AutoML: starting GBM_2_AutoML_20210817_080350 model training\n",
      "\n",
      "██\n",
      "08:16:18.979: AutoML: starting GBM_3_AutoML_20210817_080350 model training\n",
      "\n",
      "█\n",
      "08:17:55.55: AutoML: starting GBM_4_AutoML_20210817_080350 model training\n",
      "\n",
      "██\n",
      "08:19:30.132: AutoML: starting GBM_5_AutoML_20210817_080350 model training\n",
      "\n",
      "█\n",
      "08:21:02.297: AutoML: starting DeepLearning_1_AutoML_20210817_080350 model training\n",
      "\n",
      "██\n",
      "08:22:43.367: AutoML: starting XRT_1_AutoML_20210817_080350 model training\n",
      "\n",
      "█\n",
      "08:24:34.448: AutoML: starting XGBoost_grid__1_AutoML_20210817_080350 hyperparameter search\n",
      "\n",
      "██████████████\n",
      "08:40:25.679: AutoML: starting GBM_grid__1_AutoML_20210817_080350 hyperparameter search\n",
      "\n",
      "█████████\n",
      "08:50:13.973: AutoML: starting DeepLearning_grid__1_AutoML_20210817_080350 hyperparameter search\n",
      "\n",
      "███\n",
      "08:53:21.18: AutoML: starting DeepLearning_grid__2_AutoML_20210817_080350 hyperparameter search\n",
      "\n",
      "███\n",
      "08:56:29.102: AutoML: starting DeepLearning_grid__3_AutoML_20210817_080350 hyperparameter search\n",
      "\n",
      "███\n",
      "08:59:32.267: AutoML: starting StackedEnsemble_BestOfFamily_AutoML_20210817_080350 model training\n",
      "\n",
      "█\n",
      "08:59:44.292: New leader: StackedEnsemble_BestOfFamily_AutoML_20210817_080350, auc: 0.8727402059355193\n",
      "08:59:44.294: AutoML: starting StackedEnsemble_AllModels_AutoML_20210817_080350 model training\n",
      "\n",
      "███| 100%\n",
      "\n",
      "08:59:56.321: New leader: StackedEnsemble_AllModels_AutoML_20210817_080350, auc: 0.8760612962686657\n",
      "08:59:56.323: No base models, due to timeouts or the exclude_algos option. Skipping StackedEnsemble 'monotonic'.\n",
      "08:59:56.323: Actual modeling steps: [{XGBoost : [def_1 (10), def_2 (10), def_3 (10)]}, {GLM : [def_1 (10)]}, {DRF : [def_1 (10)]}, {GBM : [def_1 (10), def_2 (10), def_3 (10), def_4 (10), def_5 (10)]}, {DeepLearning : [def_1 (10)]}, {DRF : [XRT (10)]}, {XGBoost : [grid_1 (100)]}, {GBM : [grid_1 (60)]}, {DeepLearning : [grid_1 (20), grid_2 (20), grid_3 (20)]}, {StackedEnsemble : [best (10), all (10)]}]\n",
      "08:59:56.323: AutoML build stopped: 2021.08.17 08:59:56.323\n",
      "08:59:56.323: AutoML build done: built 21 models\n",
      "08:59:56.323: AutoML duration: 56 min  5.767 sec\n",
      "\n"
     ]
    },
    {
     "data": {
      "text/html": [
       "<table>\n",
       "<thead>\n",
       "<tr><th>model_id                                           </th><th style=\"text-align: right;\">     auc</th><th style=\"text-align: right;\">  logloss</th><th style=\"text-align: right;\">   aucpr</th><th style=\"text-align: right;\">  mean_per_class_error</th><th style=\"text-align: right;\">    rmse</th><th style=\"text-align: right;\">      mse</th></tr>\n",
       "</thead>\n",
       "<tbody>\n",
       "<tr><td>StackedEnsemble_AllModels_AutoML_20210817_080350   </td><td style=\"text-align: right;\">0.876061</td><td style=\"text-align: right;\"> 0.22012 </td><td style=\"text-align: right;\">0.552021</td><td style=\"text-align: right;\">              0.250571</td><td style=\"text-align: right;\">0.250977</td><td style=\"text-align: right;\">0.0629894</td></tr>\n",
       "<tr><td>StackedEnsemble_BestOfFamily_AutoML_20210817_080350</td><td style=\"text-align: right;\">0.87274 </td><td style=\"text-align: right;\"> 0.2231  </td><td style=\"text-align: right;\">0.539924</td><td style=\"text-align: right;\">              0.257699</td><td style=\"text-align: right;\">0.252855</td><td style=\"text-align: right;\">0.0639357</td></tr>\n",
       "<tr><td>GLM_1_AutoML_20210817_080350                       </td><td style=\"text-align: right;\">0.859696</td><td style=\"text-align: right;\"> 0.316467</td><td style=\"text-align: right;\">0.50607 </td><td style=\"text-align: right;\">              0.26647 </td><td style=\"text-align: right;\">0.297613</td><td style=\"text-align: right;\">0.0885737</td></tr>\n",
       "<tr><td>DeepLearning_grid__2_AutoML_20210817_080350_model_1</td><td style=\"text-align: right;\">0.846638</td><td style=\"text-align: right;\"> 0.244062</td><td style=\"text-align: right;\">0.470743</td><td style=\"text-align: right;\">              0.264379</td><td style=\"text-align: right;\">0.263758</td><td style=\"text-align: right;\">0.0695681</td></tr>\n",
       "<tr><td>DeepLearning_1_AutoML_20210817_080350              </td><td style=\"text-align: right;\">0.8463  </td><td style=\"text-align: right;\"> 0.243718</td><td style=\"text-align: right;\">0.480706</td><td style=\"text-align: right;\">              0.284047</td><td style=\"text-align: right;\">0.261932</td><td style=\"text-align: right;\">0.0686082</td></tr>\n",
       "<tr><td>XGBoost_grid__1_AutoML_20210817_080350_model_1     </td><td style=\"text-align: right;\">0.844073</td><td style=\"text-align: right;\"> 0.24406 </td><td style=\"text-align: right;\">0.467902</td><td style=\"text-align: right;\">              0.288011</td><td style=\"text-align: right;\">0.264251</td><td style=\"text-align: right;\">0.0698284</td></tr>\n",
       "<tr><td>DeepLearning_grid__3_AutoML_20210817_080350_model_1</td><td style=\"text-align: right;\">0.843659</td><td style=\"text-align: right;\"> 0.26191 </td><td style=\"text-align: right;\">0.468328</td><td style=\"text-align: right;\">              0.279272</td><td style=\"text-align: right;\">0.275947</td><td style=\"text-align: right;\">0.0761466</td></tr>\n",
       "<tr><td>DeepLearning_grid__1_AutoML_20210817_080350_model_1</td><td style=\"text-align: right;\">0.841493</td><td style=\"text-align: right;\"> 0.269029</td><td style=\"text-align: right;\">0.482134</td><td style=\"text-align: right;\">              0.284549</td><td style=\"text-align: right;\">0.274062</td><td style=\"text-align: right;\">0.0751098</td></tr>\n",
       "<tr><td>GBM_grid__1_AutoML_20210817_080350_model_1         </td><td style=\"text-align: right;\">0.802942</td><td style=\"text-align: right;\"> 0.289493</td><td style=\"text-align: right;\">0.381699</td><td style=\"text-align: right;\">              0.313159</td><td style=\"text-align: right;\">0.288919</td><td style=\"text-align: right;\">0.0834744</td></tr>\n",
       "<tr><td>XGBoost_3_AutoML_20210817_080350                   </td><td style=\"text-align: right;\">0.748415</td><td style=\"text-align: right;\"> 0.298982</td><td style=\"text-align: right;\">0.297501</td><td style=\"text-align: right;\">              0.337446</td><td style=\"text-align: right;\">0.289118</td><td style=\"text-align: right;\">0.0835895</td></tr>\n",
       "<tr><td>GBM_1_AutoML_20210817_080350                       </td><td style=\"text-align: right;\">0.720374</td><td style=\"text-align: right;\"> 0.312861</td><td style=\"text-align: right;\">0.25035 </td><td style=\"text-align: right;\">              0.361338</td><td style=\"text-align: right;\">0.296449</td><td style=\"text-align: right;\">0.0878818</td></tr>\n",
       "<tr><td>GBM_2_AutoML_20210817_080350                       </td><td style=\"text-align: right;\">0.71962 </td><td style=\"text-align: right;\"> 0.313095</td><td style=\"text-align: right;\">0.247841</td><td style=\"text-align: right;\">              0.361426</td><td style=\"text-align: right;\">0.296553</td><td style=\"text-align: right;\">0.0879434</td></tr>\n",
       "<tr><td>GBM_3_AutoML_20210817_080350                       </td><td style=\"text-align: right;\">0.712603</td><td style=\"text-align: right;\"> 0.313908</td><td style=\"text-align: right;\">0.239842</td><td style=\"text-align: right;\">              0.366341</td><td style=\"text-align: right;\">0.296832</td><td style=\"text-align: right;\">0.0881094</td></tr>\n",
       "<tr><td>XGBoost_2_AutoML_20210817_080350                   </td><td style=\"text-align: right;\">0.705649</td><td style=\"text-align: right;\"> 0.363991</td><td style=\"text-align: right;\">0.247954</td><td style=\"text-align: right;\">              0.356117</td><td style=\"text-align: right;\">0.319129</td><td style=\"text-align: right;\">0.101843 </td></tr>\n",
       "<tr><td>XGBoost_1_AutoML_20210817_080350                   </td><td style=\"text-align: right;\">0.702086</td><td style=\"text-align: right;\"> 0.326407</td><td style=\"text-align: right;\">0.25775 </td><td style=\"text-align: right;\">              0.355536</td><td style=\"text-align: right;\">0.300044</td><td style=\"text-align: right;\">0.0900266</td></tr>\n",
       "<tr><td>GBM_5_AutoML_20210817_080350                       </td><td style=\"text-align: right;\">0.689326</td><td style=\"text-align: right;\"> 0.317279</td><td style=\"text-align: right;\">0.211475</td><td style=\"text-align: right;\">              0.376328</td><td style=\"text-align: right;\">0.297985</td><td style=\"text-align: right;\">0.0887948</td></tr>\n",
       "<tr><td>GBM_4_AutoML_20210817_080350                       </td><td style=\"text-align: right;\">0.682282</td><td style=\"text-align: right;\"> 0.317096</td><td style=\"text-align: right;\">0.218694</td><td style=\"text-align: right;\">              0.374689</td><td style=\"text-align: right;\">0.297865</td><td style=\"text-align: right;\">0.0887234</td></tr>\n",
       "<tr><td>XGBoost_grid__1_AutoML_20210817_080350_model_2     </td><td style=\"text-align: right;\">0.647838</td><td style=\"text-align: right;\"> 0.413977</td><td style=\"text-align: right;\">0.1946  </td><td style=\"text-align: right;\">              0.393387</td><td style=\"text-align: right;\">0.347475</td><td style=\"text-align: right;\">0.120739 </td></tr>\n",
       "<tr><td>GBM_grid__1_AutoML_20210817_080350_model_2         </td><td style=\"text-align: right;\">0.612629</td><td style=\"text-align: right;\"> 0.323407</td><td style=\"text-align: right;\">0.164876</td><td style=\"text-align: right;\">              0.405706</td><td style=\"text-align: right;\">0.299787</td><td style=\"text-align: right;\">0.0898722</td></tr>\n",
       "<tr><td>DRF_1_AutoML_20210817_080350                       </td><td style=\"text-align: right;\">0.583717</td><td style=\"text-align: right;\"> 0.535294</td><td style=\"text-align: right;\">0.152747</td><td style=\"text-align: right;\">              0.424015</td><td style=\"text-align: right;\">0.303893</td><td style=\"text-align: right;\">0.0923508</td></tr>\n",
       "<tr><td>XRT_1_AutoML_20210817_080350                       </td><td style=\"text-align: right;\">0.572219</td><td style=\"text-align: right;\"> 0.553447</td><td style=\"text-align: right;\">0.148706</td><td style=\"text-align: right;\">              0.431876</td><td style=\"text-align: right;\">0.303858</td><td style=\"text-align: right;\">0.0923297</td></tr>\n",
       "</tbody>\n",
       "</table>"
      ]
     },
     "metadata": {},
     "output_type": "display_data"
    },
    {
     "name": "stdout",
     "output_type": "stream",
     "text": [
      "\n"
     ]
    }
   ],
   "source": [
    "aml = H2OAutoML(max_models=20, max_runtime_secs=3600, seed=11, verbosity=\"info\", balance_classes = True) #max_runtime_secs\n",
    "aml.train(x=x_col,y=y_col, training_frame=df_h2o)  \n",
    "\n",
    "    \n",
    "# View the AutoML Leaderboard\n",
    "lb = aml.leaderboard\n",
    "print(lb.head(rows=lb.nrows))  # Print all rows instead of default (10 rows)  "
   ]
  },
  {
   "cell_type": "code",
   "execution_count": 17,
   "id": "8cb78ca8",
   "metadata": {
    "execution": {
     "iopub.execute_input": "2021-08-17T08:59:57.495520Z",
     "iopub.status.busy": "2021-08-17T08:59:57.494525Z",
     "iopub.status.idle": "2021-08-17T08:59:57.782080Z",
     "shell.execute_reply": "2021-08-17T08:59:57.782969Z"
    },
    "papermill": {
     "duration": 0.433601,
     "end_time": "2021-08-17T08:59:57.783237",
     "exception": false,
     "start_time": "2021-08-17T08:59:57.349636",
     "status": "completed"
    },
    "tags": []
   },
   "outputs": [
    {
     "name": "stderr",
     "output_type": "stream",
     "text": [
      "/opt/conda/lib/python3.7/site-packages/h2o/estimators/stackedensemble.py:836: H2ODeprecationWarning: The usage of stacked_ensemble.metalearner()['name'] will be deprecated. Metalearner now returns the metalearner object. If you need to get the 'name' please use stacked_ensemble.metalearner().model_id\n",
      "  H2ODeprecationWarning\n"
     ]
    }
   ],
   "source": [
    "# Get model ids for all models in the AutoML Leaderboard\n",
    "model_ids = list(aml.leaderboard['model_id'].as_data_frame().iloc[:,0])\n",
    "# Get the \"All Models\" Stacked Ensemble model\n",
    "se = h2o.get_model([mid for mid in model_ids if \"StackedEnsemble_AllModels\" in mid][0])\n",
    "# Get the Stacked Ensemble metalearner model\n",
    "metalearner = h2o.get_model(se.metalearner()['name'])"
   ]
  },
  {
   "cell_type": "code",
   "execution_count": 18,
   "id": "1004a63d",
   "metadata": {
    "execution": {
     "iopub.execute_input": "2021-08-17T08:59:58.069536Z",
     "iopub.status.busy": "2021-08-17T08:59:58.068434Z",
     "iopub.status.idle": "2021-08-17T08:59:58.618183Z",
     "shell.execute_reply": "2021-08-17T08:59:58.618715Z"
    },
    "papermill": {
     "duration": 0.701285,
     "end_time": "2021-08-17T08:59:58.618901",
     "exception": false,
     "start_time": "2021-08-17T08:59:57.917616",
     "status": "completed"
    },
    "tags": []
   },
   "outputs": [
    {
     "data": {
      "image/png": "[encoded data removed]",
      "text/plain": [
       "<Figure size 1008x720 with 1 Axes>"
      ]
     },
     "metadata": {
      "needs_background": "light"
     },
     "output_type": "display_data"
    }
   ],
   "source": [
    "metalearner.std_coef_plot()"
   ]
  }
 ],
 "metadata": {
  "kernelspec": {
   "display_name": "Python 3",
   "language": "python",
   "name": "python3"
  },
  "language_info": {
   "codemirror_mode": {
    "name": "ipython",
    "version": 3
   },
   "file_extension": ".py",
   "mimetype": "text/x-python",
   "name": "python",
   "nbconvert_exporter": "python",
   "pygments_lexer": "ipython3",
   "version": "3.7.10"
  },
  "papermill": {
   "default_parameters": {},
   "duration": 3465.073673,
   "end_time": "2021-08-17T09:00:01.134016",
   "environment_variables": {},
   "exception": null,
   "input_path": "__notebook__.ipynb",
   "output_path": "__notebook__.ipynb",
   "parameters": {},
   "start_time": "2021-08-17T08:02:16.060343",
   "version": "2.3.3"
  }
 },
 "nbformat": 4,
 "nbformat_minor": 5
}
